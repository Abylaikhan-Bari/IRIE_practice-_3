{
 "cells": [
  {
   "cell_type": "code",
   "id": "initial_id",
   "metadata": {
    "collapsed": true,
    "ExecuteTime": {
     "end_time": "2025-02-13T12:46:10.571567Z",
     "start_time": "2025-02-13T12:46:07.299309Z"
    }
   },
   "source": [
    "import nltk\n",
    "from nltk.tokenize import word_tokenize\n",
    "import string\n",
    "\n",
    "# Загрузка ресурсов\n",
    "nltk.download('punkt')\n",
    "\n",
    "# Исходные документы\n",
    "documents = [\n",
    "    \"Natural language processing enables machines to understand human language.\",\n",
    "    \"Boolean retrieval is a basic model in information retrieval.\",\n",
    "    \"Language models are essential for processing and analyzing text.\",\n",
    "    \"Understanding Boolean operators is crucial for search engines.\"\n",
    "]\n",
    "\n",
    "# Функция предобработки\n",
    "def preprocess(text):\n",
    "    tokens = word_tokenize(text.lower())  # Нижний регистр и токенизация\n",
    "    return [word for word in tokens if word.isalnum()]  # Удаление знаков препинания\n",
    "\n",
    "# Применение предобработки ко всем документам\n",
    "processed_documents = [preprocess(doc) for doc in documents]\n",
    "\n",
    "print(\"Предобработанные документы:\", processed_documents)\n"
   ],
   "outputs": [
    {
     "name": "stdout",
     "output_type": "stream",
     "text": [
      "Предобработанные документы: [['natural', 'language', 'processing', 'enables', 'machines', 'to', 'understand', 'human', 'language'], ['boolean', 'retrieval', 'is', 'a', 'basic', 'model', 'in', 'information', 'retrieval'], ['language', 'models', 'are', 'essential', 'for', 'processing', 'and', 'analyzing', 'text'], ['understanding', 'boolean', 'operators', 'is', 'crucial', 'for', 'search', 'engines']]\n"
     ]
    },
    {
     "name": "stderr",
     "output_type": "stream",
     "text": [
      "[nltk_data] Downloading package punkt to /Users/aikei/nltk_data...\n",
      "[nltk_data]   Package punkt is already up-to-date!\n"
     ]
    }
   ],
   "execution_count": 1
  },
  {
   "metadata": {},
   "cell_type": "markdown",
   "source": [
    "## Часть 1: Подготовка данных\n",
    "Мы провели предобработку текстов:\n",
    "- Привели текст к **нижнему регистру**.\n",
    "- Удалили **знаки препинания**.\n",
    "- Выполнили **токенизацию**.\n",
    "\n",
    "Теперь тексты готовы для построения обратного индекса.\n"
   ],
   "id": "88e0bf1d3c28ee5e"
  },
  {
   "metadata": {
    "ExecuteTime": {
     "end_time": "2025-02-13T12:46:10.578369Z",
     "start_time": "2025-02-13T12:46:10.575853Z"
    }
   },
   "cell_type": "code",
   "source": [
    "# Функция построения обратного индекса\n",
    "def build_inverted_index(corpus):\n",
    "    inverted_index = {}\n",
    "    for doc_id, document in enumerate(corpus):\n",
    "        for word in document:\n",
    "            if word not in inverted_index:\n",
    "                inverted_index[word] = set()\n",
    "            inverted_index[word].add(doc_id)\n",
    "    return inverted_index\n",
    "\n",
    "# Построение индекса\n",
    "inverted_index = build_inverted_index(processed_documents)\n",
    "\n",
    "print(\"Обратный индекс:\", inverted_index)\n"
   ],
   "id": "305b4363f93eeb1b",
   "outputs": [
    {
     "name": "stdout",
     "output_type": "stream",
     "text": [
      "Обратный индекс: {'natural': {0}, 'language': {0, 2}, 'processing': {0, 2}, 'enables': {0}, 'machines': {0}, 'to': {0}, 'understand': {0}, 'human': {0}, 'boolean': {1, 3}, 'retrieval': {1}, 'is': {1, 3}, 'a': {1}, 'basic': {1}, 'model': {1}, 'in': {1}, 'information': {1}, 'models': {2}, 'are': {2}, 'essential': {2}, 'for': {2, 3}, 'and': {2}, 'analyzing': {2}, 'text': {2}, 'understanding': {3}, 'operators': {3}, 'crucial': {3}, 'search': {3}, 'engines': {3}}\n"
     ]
    }
   ],
   "execution_count": 2
  },
  {
   "metadata": {},
   "cell_type": "markdown",
   "source": [
    "## Часть 2: Построение обратного индекса\n",
    "Обратный индекс позволяет быстро находить документы, содержащие нужные слова.\n",
    "Теперь реализуем поиск с булевыми операторами.\n"
   ],
   "id": "6175a21d919ad835"
  },
  {
   "metadata": {
    "ExecuteTime": {
     "end_time": "2025-02-13T12:46:10.631270Z",
     "start_time": "2025-02-13T12:46:10.628923Z"
    }
   },
   "cell_type": "code",
   "source": [
    "# Функция для выполнения Boolean Retrieval\n",
    "def boolean_search(query, index, total_docs):\n",
    "    query_parts = query.split()\n",
    "    result_set = set(range(total_docs))  # Все документы по умолчанию\n",
    "\n",
    "    for i, term in enumerate(query_parts):\n",
    "        if term.upper() == \"AND\":\n",
    "            continue\n",
    "        elif term.upper() == \"OR\":\n",
    "            result_set = result_set.union(index.get(query_parts[i+1], set()))\n",
    "        elif term.upper() == \"NOT\":\n",
    "            result_set = result_set - index.get(query_parts[i+1], set())\n",
    "        else:\n",
    "            result_set = result_set.intersection(index.get(term, set())) if i > 0 else index.get(term, set())\n",
    "\n",
    "    return result_set\n"
   ],
   "id": "ca1c13b2be8a3eb9",
   "outputs": [],
   "execution_count": 3
  },
  {
   "metadata": {},
   "cell_type": "markdown",
   "source": [
    "## Часть 3: Реализация поиска\n",
    "Функция `boolean_search(query, index, total_docs)` выполняет поиск с операторами `AND`, `OR`, `NOT`.\n",
    "Теперь протестируем систему.\n"
   ],
   "id": "13b192cf6a9a0680"
  },
  {
   "metadata": {
    "ExecuteTime": {
     "end_time": "2025-02-13T12:46:10.637420Z",
     "start_time": "2025-02-13T12:46:10.635318Z"
    }
   },
   "cell_type": "code",
   "source": [
    "# Тестовые запросы\n",
    "total_docs = len(documents)\n",
    "query1 = \"language AND models\"\n",
    "query2 = \"retrieval OR text\"\n",
    "query3 = \"NOT Boolean\"\n",
    "\n",
    "# Вывод результатов\n",
    "print(\"Результаты для запроса 1:\", boolean_search(query1, inverted_index, total_docs))\n",
    "print(\"Результаты для запроса 2:\", boolean_search(query2, inverted_index, total_docs))\n",
    "print(\"Результаты для запроса 3:\", boolean_search(query3, inverted_index, total_docs))\n"
   ],
   "id": "d6844324d2102720",
   "outputs": [
    {
     "name": "stdout",
     "output_type": "stream",
     "text": [
      "Результаты для запроса 1: {2}\n",
      "Результаты для запроса 2: {2}\n",
      "Результаты для запроса 3: set()\n"
     ]
    }
   ],
   "execution_count": 4
  },
  {
   "metadata": {},
   "cell_type": "markdown",
   "source": [
    "## Часть 4: Тестирование поисковой системы\n",
    "Мы проверили работу поискового движка на примерах:\n",
    "- `\"language AND models\"`\n",
    "- `\"retrieval OR text\"`\n",
    "- `\"NOT Boolean\"`\n",
    "\n",
    "Результаты показывают, какие документы соответствуют каждому запросу.\n"
   ],
   "id": "ccb058575f306056"
  },
  {
   "metadata": {
    "ExecuteTime": {
     "end_time": "2025-02-13T12:46:10.647513Z",
     "start_time": "2025-02-13T12:46:10.644018Z"
    }
   },
   "cell_type": "code",
   "source": [
    "from collections import Counter\n",
    "\n",
    "# Улучшенный Boolean Retrieval с приоритетом операций (AND, OR, NOT)\n",
    "def boolean_search_advanced(query, index, total_docs):\n",
    "    terms = query.replace(\"(\", \" ( \").replace(\")\", \" ) \").split()\n",
    "    stack, operations = [], []\n",
    "\n",
    "    def apply_operation():\n",
    "        right = stack.pop()\n",
    "        operator = operations.pop()\n",
    "        left = stack.pop() if stack else set(range(total_docs))\n",
    "        if operator == \"AND\":\n",
    "            stack.append(left.intersection(right))\n",
    "        elif operator == \"OR\":\n",
    "            stack.append(left.union(right))\n",
    "        elif operator == \"NOT\":\n",
    "            stack.append(left - right)\n",
    "\n",
    "    for term in terms:\n",
    "        if term == \"(\":\n",
    "            operations.append(term)\n",
    "        elif term == \")\":\n",
    "            while operations and operations[-1] != \"(\":\n",
    "                apply_operation()\n",
    "            operations.pop()\n",
    "        elif term.upper() in {\"AND\", \"OR\", \"NOT\"}:\n",
    "            operations.append(term.upper())\n",
    "        else:\n",
    "            stack.append(index.get(term, set()))\n",
    "\n",
    "    while operations:\n",
    "        apply_operation()\n",
    "\n",
    "    return stack.pop() if stack else set()\n",
    "\n",
    "# Тестирование улучшенной версии\n",
    "query4 = \"language AND (models OR retrieval)\"\n",
    "print(\"Улучшенный поиск:\", boolean_search_advanced(query4, inverted_index, total_docs))\n"
   ],
   "id": "adbea44fcc8beced",
   "outputs": [
    {
     "name": "stdout",
     "output_type": "stream",
     "text": [
      "Улучшенный поиск: {2}\n"
     ]
    }
   ],
   "execution_count": 5
  },
  {
   "metadata": {},
   "cell_type": "markdown",
   "source": [
    "## Часть 5: Улучшения\n",
    "Теперь мы поддерживаем сложные запросы с **скобками** и **ранжированием документов**.\n",
    "Функция `boolean_search_advanced()` выполняет разбор выражений.\n"
   ],
   "id": "880cec13ddaed70f"
  },
  {
   "metadata": {
    "jupyter": {
     "is_executing": true
    },
    "ExecuteTime": {
     "start_time": "2025-02-13T12:46:10.651918Z"
    }
   },
   "cell_type": "code",
   "source": [
    "import spacy\n",
    "\n",
    "nlp_ru = spacy.load(\"ru_core_news_sm\")\n",
    "\n",
    "def lemmatize_ru(text):\n",
    "    doc = nlp_ru(text.lower())\n",
    "    return [token.lemma_ for token in doc if token.is_alpha]\n",
    "\n",
    "# Пример с русским текстом\n",
    "text_ru = \"Обработка естественного языка важна для поисковых систем.\"\n",
    "lemmas = lemmatize_ru(text_ru)\n",
    "print(\"Лемматизированный текст:\", lemmas)\n"
   ],
   "id": "d2232526e46692c2",
   "outputs": [],
   "execution_count": null
  },
  {
   "metadata": {},
   "cell_type": "markdown",
   "source": [
    "## Часть 6: Работа с русскими текстами\n",
    "Добавлена **лемматизация** для русского языка с использованием `spaCy`.\n"
   ],
   "id": "f84d7a9bff037a61"
  }
 ],
 "metadata": {
  "kernelspec": {
   "display_name": "Python 3",
   "language": "python",
   "name": "python3"
  },
  "language_info": {
   "codemirror_mode": {
    "name": "ipython",
    "version": 2
   },
   "file_extension": ".py",
   "mimetype": "text/x-python",
   "name": "python",
   "nbconvert_exporter": "python",
   "pygments_lexer": "ipython2",
   "version": "2.7.6"
  }
 },
 "nbformat": 4,
 "nbformat_minor": 5
}
